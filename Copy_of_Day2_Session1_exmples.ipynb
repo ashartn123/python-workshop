{
  "nbformat": 4,
  "nbformat_minor": 0,
  "metadata": {
    "colab": {
      "name": "Copy of Day2 Session1 exmples.ipynb",
      "provenance": [],
      "authorship_tag": "ABX9TyMcobcWCyaGfkscGqehZzLz",
      "include_colab_link": true
    },
    "kernelspec": {
      "name": "python3",
      "display_name": "Python 3"
    }
  },
  "cells": [
    {
      "cell_type": "markdown",
      "metadata": {
        "id": "view-in-github",
        "colab_type": "text"
      },
      "source": [
        "<a href=\"https://colab.research.google.com/github/ashartn123/python-workshop/blob/master/Copy_of_Day2_Session1_exmples.ipynb\" target=\"_parent\"><img src=\"https://colab.research.google.com/assets/colab-badge.svg\" alt=\"Open In Colab\"/></a>"
      ]
    },
    {
      "cell_type": "markdown",
      "metadata": {
        "id": "FydqQkvSlVfh",
        "colab_type": "text"
      },
      "source": [
        "List Examples:\n",
        "\n",
        "1.Program to find the largest number in a list."
      ]
    },
    {
      "cell_type": "code",
      "metadata": {
        "id": "tMQVX2P2lTJQ",
        "colab_type": "code",
        "colab": {
          "base_uri": "https://localhost:8080/",
          "height": 137
        },
        "outputId": "17511904-d0bc-448e-da10-21fe9793c0f6"
      },
      "source": [
        "a=[]\n",
        "n=int(input(\"Enter number of elements:\"))\n",
        "for i in range(1,n+1):\n",
        "    b=int(input(\"Enter element:\"))\n",
        "    a.append(b)\n",
        "a.sort()\n",
        "print(\"Largest element is:\",a[n-1])"
      ],
      "execution_count": null,
      "outputs": [
        {
          "output_type": "stream",
          "text": [
            "Enter number of elements:5\n",
            "Enter element:1\n",
            "Enter element:2\n",
            "Enter element:3\n",
            "Enter element:4\n",
            "Enter element:5\n",
            "Largest element is: 5\n"
          ],
          "name": "stdout"
        }
      ]
    },
    {
      "cell_type": "markdown",
      "metadata": {
        "id": "o-XI1VBelqyF",
        "colab_type": "text"
      },
      "source": [
        "2.Python Program to put the even and odd elements in a list into two different lists."
      ]
    },
    {
      "cell_type": "code",
      "metadata": {
        "id": "pe2cIUvGl0fg",
        "colab_type": "code",
        "colab": {
          "base_uri": "https://localhost:8080/",
          "height": 137
        },
        "outputId": "712f6143-eb20-4b31-e68d-50c64053576c"
      },
      "source": [
        "a=[]\n",
        "n=int(input(\"Enter number of elements:\"))\n",
        "for i in range(1,n+1):\n",
        "    b=int(input(\"Enter element:\"))\n",
        "    a.append(b)\n",
        "even=[]\n",
        "odd=[]\n",
        "for j in a:\n",
        "    if(j%2==0):\n",
        "        even.append(j)\n",
        "    else:\n",
        "        odd.append(j)\n",
        "print(\"The even list\",even)\n",
        "print(\"The odd list\",odd)\n"
      ],
      "execution_count": null,
      "outputs": [
        {
          "output_type": "stream",
          "text": [
            "Enter number of elements:4\n",
            "Enter element:4\n",
            "Enter element:5\n",
            "Enter element:9\n",
            "Enter element:2\n",
            "The even list [4, 2]\n",
            "The odd list [5, 9]\n"
          ],
          "name": "stdout"
        }
      ]
    },
    {
      "cell_type": "markdown",
      "metadata": {
        "id": "QEViChb2mBEr",
        "colab_type": "text"
      },
      "source": [
        "3.Python Program to merge two lists and sort it."
      ]
    },
    {
      "cell_type": "code",
      "metadata": {
        "id": "LVog1zAHl44C",
        "colab_type": "code",
        "colab": {
          "base_uri": "https://localhost:8080/",
          "height": 223
        },
        "outputId": "59f77b63-9100-4e5f-d396-f37891ad0f04"
      },
      "source": [
        "a=[]\n",
        "c=[]\n",
        "n1=int(input(\"Enter number of elements:\"))\n",
        "for i in range(1,n1+1):\n",
        "    b=int(input(\"Enter element:\"))\n",
        "    a.append(b)\n",
        "n2=int(input(\"Enter number of elements:\"))\n",
        "for i in range(1,n2+1):\n",
        "    d=int(input(\"Enter element:\"))\n",
        "    c.append(d)\n",
        "new=a+c\n",
        "new.sort()\n",
        "print(\"Sorted list is:\",new)\n"
      ],
      "execution_count": null,
      "outputs": [
        {
          "output_type": "stream",
          "text": [
            "Enter number of elements:5\n",
            "Enter element:1\n",
            "Enter element:4\n",
            "Enter element:7\n",
            "Enter element:9\n",
            "Enter element:3\n",
            "Enter number of elements:4\n",
            "Enter element:5\n",
            "Enter element:2\n",
            "Enter element:6\n",
            "Enter element:8\n",
            "Sorted list is: [1, 2, 3, 4, 5, 6, 7, 8, 9]\n"
          ],
          "name": "stdout"
        }
      ]
    },
    {
      "cell_type": "markdown",
      "metadata": {
        "id": "ER31-UgqmVe_",
        "colab_type": "text"
      },
      "source": [
        "4.Python Program to sort the list according to the second element in the sublist."
      ]
    },
    {
      "cell_type": "code",
      "metadata": {
        "id": "dX39CWUimKcZ",
        "colab_type": "code",
        "colab": {
          "base_uri": "https://localhost:8080/",
          "height": 34
        },
        "outputId": "e0889955-4aa9-4ca6-e1e6-a676407819ec"
      },
      "source": [
        "a=[['A',34],['B',21],['C',26],['E',29]]\n",
        "for i in range(0,len(a)):\n",
        "    for j in range(i+1,len(a)):\n",
        "        if(a[i][1]>a[j][1]):\n",
        "            temp=a[j]\n",
        "            a[j]=a[i]\n",
        "            a[i]=temp\n",
        "print(a)"
      ],
      "execution_count": null,
      "outputs": [
        {
          "output_type": "stream",
          "text": [
            "[['B', 21], ['C', 26], ['E', 29], ['A', 34]]\n"
          ],
          "name": "stdout"
        }
      ]
    },
    {
      "cell_type": "markdown",
      "metadata": {
        "id": "1YPt4HDtmk1S",
        "colab_type": "text"
      },
      "source": [
        "5.Python Program to find the second largest number in a list using bubble sort."
      ]
    },
    {
      "cell_type": "code",
      "metadata": {
        "id": "5o7-2mkhmhYH",
        "colab_type": "code",
        "colab": {
          "base_uri": "https://localhost:8080/",
          "height": 120
        },
        "outputId": "01556e93-36bd-46f0-bbe6-7d53babec296"
      },
      "source": [
        "a=[]\n",
        "n=int(input(\"Enter number of elements:\"))\n",
        "for i in range(1,n+1):\n",
        "    b=int(input(\"Enter element:\"))\n",
        "    a.append(b)\n",
        "for i in range(0,len(a)):\n",
        "    for j in range(0,len(a)-i-1):\n",
        "        if(a[j]>a[j+1]):\n",
        "            temp=a[j]\n",
        "            a[j]=a[j+1]\n",
        "            a[j+1]=temp \n",
        "print('Second largest number is:',a[n-2])"
      ],
      "execution_count": null,
      "outputs": [
        {
          "output_type": "stream",
          "text": [
            "Enter number of elements:4\n",
            "Enter element:2\n",
            "Enter element:4\n",
            "Enter element:6\n",
            "Enter element:8\n",
            "Second largest number is: 6\n"
          ],
          "name": "stdout"
        }
      ]
    },
    {
      "cell_type": "markdown",
      "metadata": {
        "id": "4kkyJGvhm0Il",
        "colab_type": "text"
      },
      "source": [
        "6.Program to create a list of tuples with the first element as the number and the second element as the square of the number. "
      ]
    },
    {
      "cell_type": "code",
      "metadata": {
        "id": "h2ddCzk9ms7I",
        "colab_type": "code",
        "colab": {
          "base_uri": "https://localhost:8080/",
          "height": 68
        },
        "outputId": "1d79f907-640e-4a5f-b622-7268fb24bb0e"
      },
      "source": [
        "l_range=int(input(\"Enter the lower range:\"))\n",
        "u_range=int(input(\"Enter the upper range:\"))\n",
        "a=[(x,x**2) for x in range(l_range,u_range+1)]\n",
        "print(a)\n"
      ],
      "execution_count": null,
      "outputs": [
        {
          "output_type": "stream",
          "text": [
            "Enter the lower range:2\n",
            "Enter the upper range:9\n",
            "[(2, 4), (3, 9), (4, 16), (5, 25), (6, 36), (7, 49), (8, 64), (9, 81)]\n"
          ],
          "name": "stdout"
        }
      ]
    },
    {
      "cell_type": "markdown",
      "metadata": {
        "id": "tQKlqkOXnFFP",
        "colab_type": "text"
      },
      "source": [
        "7.Python Program to generate random numbers from 1 to 20 and append them to the list."
      ]
    },
    {
      "cell_type": "code",
      "metadata": {
        "id": "bN7J8DCnm-ro",
        "colab_type": "code",
        "colab": {
          "base_uri": "https://localhost:8080/",
          "height": 51
        },
        "outputId": "e1ee14c5-9d55-4dd5-f4aa-643f18039474"
      },
      "source": [
        "import random\n",
        "a=[]\n",
        "n=int(input(\"Enter number of elements:\"))\n",
        "for j in range(n):\n",
        "    a.append(random.randint(1,20))\n",
        "print('Randomised list is: ',a)"
      ],
      "execution_count": null,
      "outputs": [
        {
          "output_type": "stream",
          "text": [
            "Enter number of elements:5\n",
            "Randomised list is:  [5, 16, 1, 16, 9]\n"
          ],
          "name": "stdout"
        }
      ]
    },
    {
      "cell_type": "markdown",
      "metadata": {
        "id": "-vQpp42YnSFV",
        "colab_type": "text"
      },
      "source": [
        "Tuple Examples:\n",
        "\n",
        "1.Write python program to have a list of words to sort them from longest to shortest using list of tuples"
      ]
    },
    {
      "cell_type": "code",
      "metadata": {
        "id": "Z7dsW_fEnO0b",
        "colab_type": "code",
        "colab": {
          "base_uri": "https://localhost:8080/",
          "height": 34
        },
        "outputId": "0e7fef0f-6fc4-43b8-c6fc-cff12dd6e059"
      },
      "source": [
        "txt = 'but soft what light in yonder window breaks'\n",
        "words = txt.split()\n",
        "t = list()\n",
        "for word in words:\n",
        "   t.append((len(word), word))\n",
        "t.sort(reverse=True)\n",
        "\n",
        "res = list()\n",
        "for length, word in t:\n",
        "    res.append(word)\n",
        "\n",
        "print(res)"
      ],
      "execution_count": null,
      "outputs": [
        {
          "output_type": "stream",
          "text": [
            "['yonder', 'window', 'breaks', 'light', 'what', 'soft', 'but', 'in']\n"
          ],
          "name": "stdout"
        }
      ]
    },
    {
      "cell_type": "markdown",
      "metadata": {
        "id": "OqIoMQbin8eU",
        "colab_type": "text"
      },
      "source": [
        "2.Python program that assigns variables"
      ]
    },
    {
      "cell_type": "code",
      "metadata": {
        "id": "mioJGLsvn38r",
        "colab_type": "code",
        "colab": {
          "base_uri": "https://localhost:8080/",
          "height": 51
        },
        "outputId": "296b6620-9087-4a94-f77f-21ffaca2be7e"
      },
      "source": [
        "pair = (\"dog\", \"cat\")\n",
        "\n",
        "# Unpack tuple.\n",
        "(key, value) = pair\n",
        "\n",
        "# Display unpacked variables.\n",
        "print(key)\n",
        "print(value)"
      ],
      "execution_count": null,
      "outputs": [
        {
          "output_type": "stream",
          "text": [
            "dog\n",
            "cat\n"
          ],
          "name": "stdout"
        }
      ]
    },
    {
      "cell_type": "markdown",
      "metadata": {
        "id": "n4L-0d0-oIcM",
        "colab_type": "text"
      },
      "source": [
        "3.Python program that searches tuples"
      ]
    },
    {
      "cell_type": "code",
      "metadata": {
        "id": "bQihyd-joGPS",
        "colab_type": "code",
        "colab": {
          "base_uri": "https://localhost:8080/",
          "height": 51
        },
        "outputId": "e0360a19-a01e-4dc6-8d4c-a6f84be22469"
      },
      "source": [
        "pair = (\"dog\", \"cat\")\n",
        "\n",
        "# Search for a value.\n",
        "if \"cat\" in pair:\n",
        "    print(\"Cat found\")\n",
        "\n",
        "# Search for a value not present.\n",
        "if \"bird\" not in pair:\n",
        "    print(\"Bird not found\")"
      ],
      "execution_count": null,
      "outputs": [
        {
          "output_type": "stream",
          "text": [
            "Cat found\n",
            "Bird not found\n"
          ],
          "name": "stdout"
        }
      ]
    },
    {
      "cell_type": "markdown",
      "metadata": {
        "id": "AuPRJ1aIoXri",
        "colab_type": "text"
      },
      "source": [
        ""
      ]
    },
    {
      "cell_type": "code",
      "metadata": {
        "id": "nppWO9sdoVuF",
        "colab_type": "code",
        "colab": {}
      },
      "source": [
        ""
      ],
      "execution_count": null,
      "outputs": []
    }
  ]
}