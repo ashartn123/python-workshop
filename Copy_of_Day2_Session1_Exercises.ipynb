{
  "nbformat": 4,
  "nbformat_minor": 0,
  "metadata": {
    "colab": {
      "name": "Copy of Day2 Session1 Exercises.ipynb",
      "provenance": [],
      "authorship_tag": "ABX9TyNcDVAtPjgXq5b4JdsuVnXV",
      "include_colab_link": true
    },
    "kernelspec": {
      "name": "python3",
      "display_name": "Python 3"
    }
  },
  "cells": [
    {
      "cell_type": "markdown",
      "metadata": {
        "id": "view-in-github",
        "colab_type": "text"
      },
      "source": [
        "<a href=\"https://colab.research.google.com/github/ashartn123/python-workshop/blob/master/Copy_of_Day2_Session1_Exercises.ipynb\" target=\"_parent\"><img src=\"https://colab.research.google.com/assets/colab-badge.svg\" alt=\"Open In Colab\"/></a>"
      ]
    },
    {
      "cell_type": "markdown",
      "metadata": {
        "id": "W8i8AMAZpr6w",
        "colab_type": "text"
      },
      "source": [
        "List Exercises:\n",
        "\n",
        "1.Print multiples of 3 upto 200 using a list"
      ]
    },
    {
      "cell_type": "code",
      "metadata": {
        "id": "alz1t_BFp2ti",
        "colab_type": "code",
        "colab": {
          "base_uri": "https://localhost:8080/",
          "height": 54
        },
        "outputId": "8db04eb8-669c-4347-d93b-ddbd2b9a6e13"
      },
      "source": [
        "lst=[i for i in range(0,200,3)]\n",
        "print(lst)"
      ],
      "execution_count": null,
      "outputs": [
        {
          "output_type": "stream",
          "text": [
            "[0, 3, 6, 9, 12, 15, 18, 21, 24, 27, 30, 33, 36, 39, 42, 45, 48, 51, 54, 57, 60, 63, 66, 69, 72, 75, 78, 81, 84, 87, 90, 93, 96, 99, 102, 105, 108, 111, 114, 117, 120, 123, 126, 129, 132, 135, 138, 141, 144, 147, 150, 153, 156, 159, 162, 165, 168, 171, 174, 177, 180, 183, 186, 189, 192, 195, 198]\n"
          ],
          "name": "stdout"
        }
      ]
    },
    {
      "cell_type": "markdown",
      "metadata": {
        "id": "hBB7cEBpqCjv",
        "colab_type": "text"
      },
      "source": [
        "2.print the nos only divisible by 5 and 7 between 1000 and 2000 using a list( both inclusive)"
      ]
    },
    {
      "cell_type": "code",
      "metadata": {
        "id": "3r3dZscXp6tR",
        "colab_type": "code",
        "colab": {
          "base_uri": "https://localhost:8080/",
          "height": 54
        },
        "outputId": "bc932781-c1bc-4f6b-ccf9-99473832d96c"
      },
      "source": [
        "lst=[i for i in range(1000,2001) if(i%5==0 and i%7==0)]\n",
        "print(lst)"
      ],
      "execution_count": null,
      "outputs": [
        {
          "output_type": "stream",
          "text": [
            "[1015, 1050, 1085, 1120, 1155, 1190, 1225, 1260, 1295, 1330, 1365, 1400, 1435, 1470, 1505, 1540, 1575, 1610, 1645, 1680, 1715, 1750, 1785, 1820, 1855, 1890, 1925, 1960, 1995]\n"
          ],
          "name": "stdout"
        }
      ]
    },
    {
      "cell_type": "markdown",
      "metadata": {
        "id": "UlqWaQ4cqRdV",
        "colab_type": "text"
      },
      "source": [
        "3.Add the n number of names in a list and print them alphabetically and reverse alphabetically."
      ]
    },
    {
      "cell_type": "code",
      "metadata": {
        "id": "h6gA9TIcqILY",
        "colab_type": "code",
        "colab": {
          "base_uri": "https://localhost:8080/",
          "height": 154
        },
        "outputId": "5518ed7e-a03c-44b3-95d0-71843b39adce"
      },
      "source": [
        "names=[]\n",
        "n=int(input('Enter n:'))\n",
        "for i in range(0,n):\n",
        "  name=input('Enter name:')\n",
        "  names.append(name)\n",
        "print('The list is:',names)\n",
        "alphlist=sorted(names,reverse=False)\n",
        "print('Names in alphabetical order:',alphlist)\n",
        "revlist=sorted(names,reverse=True)\n",
        "print('Names in reverse alphabetical order:',revlist)"
      ],
      "execution_count": null,
      "outputs": [
        {
          "output_type": "stream",
          "text": [
            "Enter n:4\n",
            "Enter name:asha\n",
            "Enter name:anu\n",
            "Enter name:vidya\n",
            "Enter name:som\n",
            "The list is: ['asha', 'anu', 'vidya', 'som']\n",
            "Names in alphabetical order: ['anu', 'asha', 'som', 'vidya']\n",
            "Names in reverse alphabetical order: ['vidya', 'som', 'asha', 'anu']\n"
          ],
          "name": "stdout"
        }
      ]
    },
    {
      "cell_type": "markdown",
      "metadata": {
        "id": "1_i7cH5xqrww",
        "colab_type": "text"
      },
      "source": [
        "4.Print perfect squares divisible by 5 between 500 and 1000( (both inclusive) using list"
      ]
    },
    {
      "cell_type": "code",
      "metadata": {
        "id": "LztT1KGFqZCR",
        "colab_type": "code",
        "colab": {
          "base_uri": "https://localhost:8080/",
          "height": 54
        },
        "outputId": "08bfb83e-5384-4de2-af8d-6b03fd906049"
      },
      "source": [
        "lst=[i*i for i in range(500,1001) if i%5==0]\n",
        "print(lst)"
      ],
      "execution_count": null,
      "outputs": [
        {
          "output_type": "stream",
          "text": [
            "[250000, 255025, 260100, 265225, 270400, 275625, 280900, 286225, 291600, 297025, 302500, 308025, 313600, 319225, 324900, 330625, 336400, 342225, 348100, 354025, 360000, 366025, 372100, 378225, 384400, 390625, 396900, 403225, 409600, 416025, 422500, 429025, 435600, 442225, 448900, 455625, 462400, 469225, 476100, 483025, 490000, 497025, 504100, 511225, 518400, 525625, 532900, 540225, 547600, 555025, 562500, 570025, 577600, 585225, 592900, 600625, 608400, 616225, 624100, 632025, 640000, 648025, 656100, 664225, 672400, 680625, 688900, 697225, 705600, 714025, 722500, 731025, 739600, 748225, 756900, 765625, 774400, 783225, 792100, 801025, 810000, 819025, 828100, 837225, 846400, 855625, 864900, 874225, 883600, 893025, 902500, 912025, 921600, 931225, 940900, 950625, 960400, 970225, 980100, 990025, 1000000]\n"
          ],
          "name": "stdout"
        }
      ]
    },
    {
      "cell_type": "markdown",
      "metadata": {
        "id": "OZ947oH2q2XO",
        "colab_type": "text"
      },
      "source": [
        "Tuple Exercises:\n",
        "\n",
        "1.Get a string and store word by word as elements in a tuple and find the largest word in the tuple and print it"
      ]
    },
    {
      "cell_type": "code",
      "metadata": {
        "id": "pV04j6yKqzPC",
        "colab_type": "code",
        "colab": {
          "base_uri": "https://localhost:8080/",
          "height": 120
        },
        "outputId": "b8227de2-b247-4400-9121-974d93e89a55"
      },
      "source": [
        "a=[]\n",
        "n= int(input(\"Enter the number of elements in list:\"))\n",
        "for x in range(0,n):\n",
        "    element=input(\"Enter element\" + str(x+1) + \":\")\n",
        "    a.append(element)\n",
        "max1=len(a[0])\n",
        "temp=a[0]\n",
        "for i in a:\n",
        "    if(len(i)>max1):\n",
        "       max1=len(i)\n",
        "       temp=i\n",
        "print(\"The word with the longest length is:\")\n",
        "print(temp)"
      ],
      "execution_count": null,
      "outputs": [
        {
          "output_type": "stream",
          "text": [
            "Enter the number of elements in list:3\n",
            "Enter element1:asha\n",
            "Enter element2:vidyashree\n",
            "Enter element3:somshekhar\n",
            "The word with the longest length is:\n",
            "vidyashree\n"
          ],
          "name": "stdout"
        }
      ]
    },
    {
      "cell_type": "markdown",
      "metadata": {
        "id": "-VOmVUUpre9R",
        "colab_type": "text"
      },
      "source": [
        "2.get rollno and marks (Rollno, mark) as list of tuples for n number of students through keyboard and print them in marks descending order with rollno"
      ]
    },
    {
      "cell_type": "code",
      "metadata": {
        "id": "sxpFtCqCrJv8",
        "colab_type": "code",
        "colab": {
          "base_uri": "https://localhost:8080/",
          "height": 188
        },
        "outputId": "64081b40-5e7a-488c-926d-5e322b8565d6"
      },
      "source": [
        "import operator\n",
        "n=int(input('Enter n:'))\n",
        "d={}\n",
        "for i in range(0,n):\n",
        "  name=input('Enter student name:')\n",
        "  marks=input('Enter marks:')\n",
        "  d[name]=marks\n",
        "t=list(d.items())\n",
        "lst=sorted(t,key=operator.itemgetter(1),reverse=True)\n",
        "print(lst)\n"
      ],
      "execution_count": null,
      "outputs": [
        {
          "output_type": "stream",
          "text": [
            "Enter n:4\n",
            "Enter student name:Asha\n",
            "Enter marks:88\n",
            "Enter student name:Vidya\n",
            "Enter marks:90\n",
            "Enter student name:Som\n",
            "Enter marks:75\n",
            "Enter student name:Ashlesha\n",
            "Enter marks:91\n",
            "[('Ashlesha', '91'), ('Vidya', '90'), ('Asha', '88'), ('Som', '75')]\n"
          ],
          "name": "stdout"
        }
      ]
    },
    {
      "cell_type": "markdown",
      "metadata": {
        "id": "Ydd-F7xBr6pY",
        "colab_type": "text"
      },
      "source": [
        "3.Get name and salary (name, salary) as list of tuples for n number of employees through keyboard and print them in name alphabetical order with salary"
      ]
    },
    {
      "cell_type": "code",
      "metadata": {
        "id": "0KysTyN3ror1",
        "colab_type": "code",
        "colab": {
          "base_uri": "https://localhost:8080/",
          "height": 188
        },
        "outputId": "9fd86fbb-a9fa-40e4-f95f-c44d5c599971"
      },
      "source": [
        "import operator\n",
        "n=int(input('Enter n:'))\n",
        "d={}\n",
        "for i in range(0,n):\n",
        "  name=input('Enter employee name:')\n",
        "  salary=input('Enter salary:')\n",
        "  d[name]=salary\n",
        "t=list(d.items())\n",
        "lst=sorted(t,key=operator.itemgetter(1),reverse=False)\n",
        "print(lst)"
      ],
      "execution_count": null,
      "outputs": [
        {
          "output_type": "stream",
          "text": [
            "Enter n:4\n",
            "Enter employee name:Asha\n",
            "Enter salary:40000\n",
            "Enter employee name:Ram\n",
            "Enter salary:35000\n",
            "Enter employee name:Shanta\n",
            "Enter salary:45000\n",
            "Enter employee name:Rudrappa\n",
            "Enter salary:50000\n",
            "[('Ram', '35000'), ('Asha', '40000'), ('Shanta', '45000'), ('Rudrappa', '50000')]\n"
          ],
          "name": "stdout"
        }
      ]
    },
    {
      "cell_type": "code",
      "metadata": {
        "id": "ySe_QXJHsFwU",
        "colab_type": "code",
        "colab": {}
      },
      "source": [
        ""
      ],
      "execution_count": null,
      "outputs": []
    }
  ]
}