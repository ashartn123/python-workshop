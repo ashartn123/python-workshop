{
  "nbformat": 4,
  "nbformat_minor": 0,
  "metadata": {
    "colab": {
      "name": "Copy of Day1 Session2 Exercises.ipynb",
      "provenance": [],
      "authorship_tag": "ABX9TyO8BE+w6/lxy3cLzLBDr10r",
      "include_colab_link": true
    },
    "kernelspec": {
      "name": "python3",
      "display_name": "Python 3"
    }
  },
  "cells": [
    {
      "cell_type": "markdown",
      "metadata": {
        "id": "view-in-github",
        "colab_type": "text"
      },
      "source": [
        "<a href=\"https://colab.research.google.com/github/ashartn123/python-workshop/blob/master/Copy_of_Day1_Session2_Exercises.ipynb\" target=\"_parent\"><img src=\"https://colab.research.google.com/assets/colab-badge.svg\" alt=\"Open In Colab\"/></a>"
      ]
    },
    {
      "cell_type": "code",
      "metadata": {
        "id": "b4suKd6CtAsW",
        "colab_type": "code",
        "outputId": "308c0f51-72b2-451d-9458-6280f085f392",
        "colab": {
          "base_uri": "https://localhost:8080/",
          "height": 103
        }
      },
      "source": [
        "#Write a program to print the triangle i/p 4\n",
        "\n",
        "n=int(input('Enter the value of n '))\n",
        "num=1\n",
        "for i in range(1,n+1):\n",
        "  num=i\n",
        "  for j in range(i):\n",
        "    print(num,end=\" \")\n",
        "    num=num+1\n",
        "  print()"
      ],
      "execution_count": 0,
      "outputs": [
        {
          "output_type": "stream",
          "text": [
            "Enter the value of n 4\n",
            "1 \n",
            "2 3 \n",
            "3 4 5 \n",
            "4 5 6 7 \n"
          ],
          "name": "stdout"
        }
      ]
    },
    {
      "cell_type": "code",
      "metadata": {
        "id": "aOYgRXaXtctk",
        "colab_type": "code",
        "outputId": "d37b502a-102b-4cc3-9eba-91cdc5b2d117",
        "colab": {
          "base_uri": "https://localhost:8080/",
          "height": 137
        }
      },
      "source": [
        "n=int(input('Enter the value of n: '))\n",
        "for i in range(n+1,0,-1):\n",
        "  num=i\n",
        "  for j in range(i,n+1):\n",
        "    print(num,end=\" \")\n",
        "    num+=1\n",
        "  print()\n"
      ],
      "execution_count": 0,
      "outputs": [
        {
          "output_type": "stream",
          "text": [
            "Enter the value of n: 5\n",
            "\n",
            "5 \n",
            "4 5 \n",
            "3 4 5 \n",
            "2 3 4 5 \n",
            "1 2 3 4 5 \n"
          ],
          "name": "stdout"
        }
      ]
    },
    {
      "cell_type": "code",
      "metadata": {
        "id": "0U-sa9jdt4rl",
        "colab_type": "code",
        "outputId": "d63d199d-8b62-4045-8271-220a4ff3ce32",
        "colab": {
          "base_uri": "https://localhost:8080/",
          "height": 103
        }
      },
      "source": [
        "n=int(input('Enter the value of n '))\n",
        "for i in range(n,0,-1):\n",
        "  for j in range(i,0,-1):\n",
        "    print(j,end=\" \")\n",
        "  print()"
      ],
      "execution_count": 0,
      "outputs": [
        {
          "output_type": "stream",
          "text": [
            "Enter the value of n 4\n",
            "4 3 2 1 \n",
            "3 2 1 \n",
            "2 1 \n",
            "1 \n"
          ],
          "name": "stdout"
        }
      ]
    },
    {
      "cell_type": "code",
      "metadata": {
        "id": "ERzWb1JWuHAq",
        "colab_type": "code",
        "outputId": "1154f73d-b27b-4b04-8f6a-dbb46f69abce",
        "colab": {
          "base_uri": "https://localhost:8080/",
          "height": 154
        }
      },
      "source": [
        "n=int(input('Enter the value of n '))\n",
        "for i in range(1,n+1):\n",
        "  for j in range(i,n+1):\n",
        "    print(j,end=\" \")\n",
        "  print()\n",
        "for i in range(n-1,0,-1):\n",
        "  for j in range(i,n+1):\n",
        "    print(j,end=\" \")\n",
        "  print()  "
      ],
      "execution_count": 0,
      "outputs": [
        {
          "output_type": "stream",
          "text": [
            "Enter the value of n 4\n",
            "1 2 3 4 \n",
            "2 3 4 \n",
            "3 4 \n",
            "4 \n",
            "3 4 \n",
            "2 3 4 \n",
            "1 2 3 4 \n"
          ],
          "name": "stdout"
        }
      ]
    },
    {
      "cell_type": "code",
      "metadata": {
        "id": "od7UdwIvuOAF",
        "colab_type": "code",
        "outputId": "85ef1b53-f63f-4d6b-cbe3-a9a0c843cbaa",
        "colab": {
          "base_uri": "https://localhost:8080/",
          "height": 51
        }
      },
      "source": [
        "#Find the length of a string without using len functions\n",
        "string=input('Enter the String ')\n",
        "count=0\n",
        "for word in string:\n",
        "  for i in word:\n",
        "    count+=1\n",
        "print('The length of the string is ',count)"
      ],
      "execution_count": 0,
      "outputs": [
        {
          "output_type": "stream",
          "text": [
            "Enter the String asha\n",
            "The length of the string is  4\n"
          ],
          "name": "stdout"
        }
      ]
    },
    {
      "cell_type": "code",
      "metadata": {
        "id": "KZnYGXxWuYiS",
        "colab_type": "code",
        "outputId": "ad6fd1ae-370e-4a13-c641-eba5c5fd9a4f",
        "colab": {
          "base_uri": "https://localhost:8080/",
          "height": 68
        }
      },
      "source": [
        "#Find the no of words and characters in a string\n",
        "\n",
        "string=input('Enter the String ')\n",
        "wordcount=0\n",
        "charcount=0\n",
        "for word in string.split():\n",
        "  wordcount+=1\n",
        "  for i in word:\n",
        "    if(len(i)>0):\n",
        "      charcount+=1\n",
        "print('Word count is ',wordcount)\n",
        "print('Character count is ',charcount)"
      ],
      "execution_count": 0,
      "outputs": [
        {
          "output_type": "stream",
          "text": [
            "Enter the String asha\n",
            "Word count is  1\n",
            "Character count is  4\n"
          ],
          "name": "stdout"
        }
      ]
    },
    {
      "cell_type": "code",
      "metadata": {
        "id": "JjpoyavEuhxX",
        "colab_type": "code",
        "outputId": "1cdbdece-9cf4-4d75-d878-23f34a8a93d6",
        "colab": {
          "base_uri": "https://localhost:8080/",
          "height": 51
        }
      },
      "source": [
        "#Find the no of occurrences of a word in a string\n",
        "def word_count(str):\n",
        "    counts = dict()\n",
        "    words = str.split()\n",
        "\n",
        "    for word in words:\n",
        "        if word in counts:\n",
        "            counts[word] += 1\n",
        "        else:\n",
        "            counts[word] = 1\n",
        "\n",
        "    return counts\n",
        "\n",
        "string=input('Enter the String ')\n",
        "print( word_count(string))\n"
      ],
      "execution_count": 0,
      "outputs": [
        {
          "output_type": "stream",
          "text": [
            "Enter the String i am asha\n",
            "{'i': 1, 'am': 1, 'asha': 1}\n"
          ],
          "name": "stdout"
        }
      ]
    },
    {
      "cell_type": "code",
      "metadata": {
        "id": "Y5ba4faUuvhR",
        "colab_type": "code",
        "colab": {}
      },
      "source": [
        ""
      ],
      "execution_count": 0,
      "outputs": []
    }
  ]
}